{
 "cells": [
  {
   "cell_type": "code",
   "execution_count": 19,
   "id": "1c0ddff5-d983-4d12-9fe6-582ca7027e65",
   "metadata": {},
   "outputs": [],
   "source": [
    "def swap_list_elt(s,i,j):\n",
    "    '''Returns a shallow copy of list s with elements at indices i and j swapped.'''\n",
    "    l = s.copy() #Create a shallow copy of s so s is unchanged and so we have fresh bindings.\n",
    "    l[i], l[j] = l[j], l[i] #Swap the elements.\n",
    "    return l \n",
    "\n",
    "def permutation_list(s,i):\n",
    "    '''Given a list s and index i, this creates a list of permutations of s where index i is swapped with all\n",
    "    indices greater than or equal to i.'''\n",
    "    l = []\n",
    "    for j in range(i,len(s)):\n",
    "        l.append(swap_list_elt(s,i,j))\n",
    "    return l   \n",
    "\n",
    "#I didn't talk about this in class, but it takes a string and converts it to a list.\n",
    "def replace_chars(s):\n",
    "    '''Takes a string or list and removes list-like-characters and converts numeric strings to numbers.'''\n",
    "    char_to_replace = {',':'', '[':'', ']':'', ' ':'',\"'\":''}\n",
    "    if type(s) == list: #Check if we have a list.\n",
    "        temp = str(s.copy()) #Convert to string if we do.\n",
    "    else:\n",
    "        temp = s\n",
    "    for key, value in char_to_replace.items(): #Replace the characters we don't want in there.\n",
    "        temp = temp.replace(key,value)\n",
    "\n",
    "    return [float(char) if char.isnumeric() else char for char in temp ]#Piece the list back together.\n",
    "\n",
    "#The workhorse of the permutation generator. I wrote it this way after thinking of recursion as\n",
    "# a tree.  At each level in the tree we have a new list of lists and we want to perform more swaps\n",
    "# to those lists and go another level down in the tree if there are still spots to swap. The depth\n",
    "# d doubles as both the depth of the tree and the index we are going to swap from the previous lists\n",
    "# in the d-1 depth list of lists.\n",
    "def gen_permutations(s,d):\n",
    "    '''Generates the permutations of a given list s at a recursive depth d.'''\n",
    "    perms = []\n",
    "    \n",
    "    if d==0: #At 0th level of recursion we need to generate a list of lists from just one list.\n",
    "        return gen_permutations(permutation_list(s,0),1) #Call self with initial list of perms, increase depth.\n",
    "    else: #Now that we have a list of lists we have two cases:\n",
    "        if d >= len(s[0])-1:# Case one is when we have sufficient permutations.\n",
    "            return s # Once we hit the correct recursive depth then we have them all.\n",
    "        else: #The other case is when we haven't hit our required recursive depth to find all perms.\n",
    "            for perm in s: #Take each perm and create permutations of it.\n",
    "                perms += permutation_list(perm,d) # The recursive depth also doubles as the index to be fixed.\n",
    "            return gen_permutations(perms,d+1) #Call self with new longer list and increase the depth.\n",
    "\n",
    "\n",
    "# The actual function that takes just one list.  It really just calls gen_permutations at depth zero\n",
    "# to get the recursive process going.  \n",
    "def permutations(s):\n",
    "    '''Generates the permutations of a given list or string s.'''\n",
    "    # It's so easy to cast strings to lists I had to have some fun and build string\n",
    "    # permutations in.\n",
    "    if len(s) == 0:\n",
    "        return 'Quit playing and give me something to do.'\n",
    "    else:\n",
    "        if type(s) != list: #Check if we don't have a list.  If not, we have a string and need some parsing.\n",
    "            s = replace_chars(s) #Useful when you've got strings in there.\n",
    "        return gen_permutations(s,0) #Start the recursive permutation tree at depth zero (one list)\n",
    "    \n",
    "def uniq_permutations(s):\n",
    "    '''Gives a list of unique permutations of a given string or list s. Currently in version 0.1: it works with list inputs,\n",
    "    but has undesired behaviors when strings are input.'''      \n",
    "      \n",
    "    #I'm leveraging string comparisons here. \n",
    "    list_from_s = list(set(str(perm) for perm in permutations(s))) #Converts each list in the perms list to a string.\n",
    "    \n",
    "    temp = [] #The back conversion process for turning the strings back into lists.\n",
    "    for list_item in list_from_s:\n",
    "        temp.append(replace_chars(list_item))\n",
    "        \n",
    "    return temp"
   ]
  },
  {
   "cell_type": "code",
   "execution_count": 20,
   "id": "7f0e0acc-5c32-4547-a094-2d6eb3c37870",
   "metadata": {},
   "outputs": [
    {
     "data": {
      "text/plain": [
       "[[1, 3, 5, 7],\n",
       " [1, 3, 7, 5],\n",
       " [1, 5, 3, 7],\n",
       " [1, 5, 7, 3],\n",
       " [1, 7, 5, 3],\n",
       " [1, 7, 3, 5],\n",
       " [3, 1, 5, 7],\n",
       " [3, 1, 7, 5],\n",
       " [3, 5, 1, 7],\n",
       " [3, 5, 7, 1],\n",
       " [3, 7, 5, 1],\n",
       " [3, 7, 1, 5],\n",
       " [5, 3, 1, 7],\n",
       " [5, 3, 7, 1],\n",
       " [5, 1, 3, 7],\n",
       " [5, 1, 7, 3],\n",
       " [5, 7, 1, 3],\n",
       " [5, 7, 3, 1],\n",
       " [7, 3, 5, 1],\n",
       " [7, 3, 1, 5],\n",
       " [7, 5, 3, 1],\n",
       " [7, 5, 1, 3],\n",
       " [7, 1, 5, 3],\n",
       " [7, 1, 3, 5]]"
      ]
     },
     "execution_count": 20,
     "metadata": {},
     "output_type": "execute_result"
    }
   ],
   "source": [
    "permutations([1,3,5,7]) #works with lists of things"
   ]
  },
  {
   "cell_type": "code",
   "execution_count": 21,
   "id": "e33b29f1-5454-433e-82e2-4e115b2b909b",
   "metadata": {},
   "outputs": [
    {
     "data": {
      "text/plain": [
       "[['a', 'b', 'c', 'd'],\n",
       " ['a', 'b', 'd', 'c'],\n",
       " ['a', 'c', 'b', 'd'],\n",
       " ['a', 'c', 'd', 'b'],\n",
       " ['a', 'd', 'c', 'b'],\n",
       " ['a', 'd', 'b', 'c'],\n",
       " ['b', 'a', 'c', 'd'],\n",
       " ['b', 'a', 'd', 'c'],\n",
       " ['b', 'c', 'a', 'd'],\n",
       " ['b', 'c', 'd', 'a'],\n",
       " ['b', 'd', 'c', 'a'],\n",
       " ['b', 'd', 'a', 'c'],\n",
       " ['c', 'b', 'a', 'd'],\n",
       " ['c', 'b', 'd', 'a'],\n",
       " ['c', 'a', 'b', 'd'],\n",
       " ['c', 'a', 'd', 'b'],\n",
       " ['c', 'd', 'a', 'b'],\n",
       " ['c', 'd', 'b', 'a'],\n",
       " ['d', 'b', 'c', 'a'],\n",
       " ['d', 'b', 'a', 'c'],\n",
       " ['d', 'c', 'b', 'a'],\n",
       " ['d', 'c', 'a', 'b'],\n",
       " ['d', 'a', 'c', 'b'],\n",
       " ['d', 'a', 'b', 'c']]"
      ]
     },
     "execution_count": 21,
     "metadata": {},
     "output_type": "execute_result"
    }
   ],
   "source": [
    "permutations('abcd') # also works with (some) strings (which don't include the special characters)"
   ]
  },
  {
   "cell_type": "code",
   "execution_count": 22,
   "id": "a784e1fd-0f2a-48e8-9566-40fec8b4b241",
   "metadata": {},
   "outputs": [
    {
     "data": {
      "text/plain": [
       "[[1, 1, 1], [1, 1, 1], [1, 1, 1], [1, 1, 1], [1, 1, 1], [1, 1, 1]]"
      ]
     },
     "execution_count": 22,
     "metadata": {},
     "output_type": "execute_result"
    }
   ],
   "source": [
    "permutations([1,1,1]) #notice this gives six identical permutations, as it should."
   ]
  },
  {
   "cell_type": "code",
   "execution_count": 23,
   "id": "b2b30ae2-95c1-4b5a-be26-db879ebb3719",
   "metadata": {},
   "outputs": [
    {
     "data": {
      "text/plain": [
       "[[1.0, 1.0, 1.0]]"
      ]
     },
     "execution_count": 23,
     "metadata": {},
     "output_type": "execute_result"
    }
   ],
   "source": [
    "uniq_permutations([1,1,1]) #This method returns only the unique permutations."
   ]
  },
  {
   "cell_type": "code",
   "execution_count": 24,
   "id": "ef2bee92-1284-4347-a082-b21cd45afb47",
   "metadata": {},
   "outputs": [
    {
     "data": {
      "text/plain": [
       "[['d', 'a', 'd'], ['d', 'd', 'a'], ['a', 'd', 'd']]"
      ]
     },
     "execution_count": 24,
     "metadata": {},
     "output_type": "execute_result"
    }
   ],
   "source": [
    "uniq_permutations(\"dad\") #The method also works for strings (w/out special characters)"
   ]
  },
  {
   "cell_type": "code",
   "execution_count": null,
   "id": "a9c011d1-7ced-4115-9c11-5bc971ca9a39",
   "metadata": {},
   "outputs": [],
   "source": []
  }
 ],
 "metadata": {
  "kernelspec": {
   "display_name": "Python 3",
   "language": "python",
   "name": "python3"
  },
  "language_info": {
   "codemirror_mode": {
    "name": "ipython",
    "version": 3
   },
   "file_extension": ".py",
   "mimetype": "text/x-python",
   "name": "python",
   "nbconvert_exporter": "python",
   "pygments_lexer": "ipython3",
   "version": "3.8.8"
  }
 },
 "nbformat": 4,
 "nbformat_minor": 5
}
